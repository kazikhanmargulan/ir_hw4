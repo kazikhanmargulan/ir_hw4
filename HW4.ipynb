{
 "cells": [
  {
   "cell_type": "markdown",
   "id": "778008ba",
   "metadata": {},
   "source": [
    "# Imports"
   ]
  },
  {
   "cell_type": "code",
   "execution_count": 2,
   "id": "61778572",
   "metadata": {},
   "outputs": [],
   "source": [
    "from elasticsearch import Elasticsearch\n",
    "from elasticsearch.helpers import bulk\n",
    "import pandas as pd\n",
    "import time\n",
    "import csv\n",
    "import json\n",
    "from sentence_transformers import SentenceTransformer, util"
   ]
  },
  {
   "cell_type": "code",
   "execution_count": 3,
   "id": "69529ea6",
   "metadata": {},
   "outputs": [
    {
     "data": {
      "text/plain": [
       "{'name': 'd588378d475d',\n",
       " 'cluster_name': 'docker-cluster',\n",
       " 'cluster_uuid': 'BtCeb_f9ThK4DCX5TfYNEg',\n",
       " 'version': {'number': '8.3.1',\n",
       "  'build_type': 'docker',\n",
       "  'build_hash': 'b9a6b2867996ba92ceac66cb5bafc6db25e7910e',\n",
       "  'build_date': '2022-06-29T18:39:55.731992798Z',\n",
       "  'build_snapshot': False,\n",
       "  'lucene_version': '9.2.0',\n",
       "  'minimum_wire_compatibility_version': '7.17.0',\n",
       "  'minimum_index_compatibility_version': '7.0.0'},\n",
       " 'tagline': 'You Know, for Search'}"
      ]
     },
     "execution_count": 3,
     "metadata": {},
     "output_type": "execute_result"
    }
   ],
   "source": [
    "es = Elasticsearch(\"http://localhost:9200\")\n",
    "es.info().body"
   ]
  },
  {
   "cell_type": "markdown",
   "id": "28578197",
   "metadata": {},
   "source": [
    "# Load the document"
   ]
  },
  {
   "cell_type": "code",
   "execution_count": 4,
   "id": "e24b4554",
   "metadata": {},
   "outputs": [],
   "source": [
    "df = pd.read_csv(\"wikIR1k/documents.csv\")"
   ]
  },
  {
   "cell_type": "markdown",
   "id": "ef272447",
   "metadata": {},
   "source": [
    "# Create index"
   ]
  },
  {
   "cell_type": "code",
   "execution_count": 6,
   "id": "17b69993",
   "metadata": {},
   "outputs": [
    {
     "data": {
      "text/plain": [
       "ObjectApiResponse({'acknowledged': True, 'shards_acknowledged': True, 'index': 'documents'})"
      ]
     },
     "execution_count": 6,
     "metadata": {},
     "output_type": "execute_result"
    }
   ],
   "source": [
    "mappings = {\n",
    "    \"properties\": {\n",
    "        \"text_right\": {\"type\": \"text\"}\n",
    "    }\n",
    "}\n",
    "\n",
    "es.indices.create(index=\"documents\", mappings=mappings)"
   ]
  },
  {
   "cell_type": "markdown",
   "id": "058e2a54",
   "metadata": {},
   "source": [
    "Delete index if any problem"
   ]
  },
  {
   "cell_type": "code",
   "execution_count": 5,
   "id": "95ec323b",
   "metadata": {},
   "outputs": [
    {
     "data": {
      "text/plain": [
       "ObjectApiResponse({'acknowledged': True})"
      ]
     },
     "execution_count": 5,
     "metadata": {},
     "output_type": "execute_result"
    }
   ],
   "source": [
    "es.indices.delete(index=\"documents\")"
   ]
  },
  {
   "cell_type": "markdown",
   "id": "a7a247e7",
   "metadata": {},
   "source": [
    "# Index document"
   ]
  },
  {
   "cell_type": "code",
   "execution_count": 7,
   "id": "be619555",
   "metadata": {},
   "outputs": [
    {
     "data": {
      "text/plain": [
       "(369721, [])"
      ]
     },
     "execution_count": 7,
     "metadata": {},
     "output_type": "execute_result"
    }
   ],
   "source": [
    "bulk_data = []\n",
    "for i,row in df.iterrows():\n",
    "    bulk_data.append(\n",
    "        {\n",
    "            \"_index\" : \"documents\",\n",
    "            \"_id\" : row[\"id_right\"],\n",
    "            \"_source\": {        \n",
    "                \"text_right\": row[\"text_right\"],\n",
    "            }\n",
    "        }\n",
    "    )\n",
    "\n",
    "bulk(es, bulk_data)"
   ]
  },
  {
   "cell_type": "markdown",
   "id": "35e6e796",
   "metadata": {},
   "source": [
    "# Read test queries"
   ]
  },
  {
   "cell_type": "code",
   "execution_count": 8,
   "id": "cdc20dc5",
   "metadata": {},
   "outputs": [],
   "source": [
    "qdf = pd.read_csv(\"wikIR1k/test/queries.csv\")"
   ]
  },
  {
   "cell_type": "markdown",
   "id": "d39427b5",
   "metadata": {},
   "source": [
    "# Run test queries for top-20"
   ]
  },
  {
   "cell_type": "code",
   "execution_count": 10,
   "id": "cbf27b2c",
   "metadata": {},
   "outputs": [
    {
     "name": "stderr",
     "output_type": "stream",
     "text": [
      "/var/folders/_l/rkyt5yds1gq2qlb0ljt7n8s00000gn/T/ipykernel_1848/3944907532.py:5: DeprecationWarning: The 'body' parameter is deprecated and will be removed in a future version. Instead use individual parameters.\n",
      "  resp = es.search(\n"
     ]
    }
   ],
   "source": [
    "quintuples = []\n",
    "\n",
    "for i,row in qdf.iterrows():\n",
    "    quintuple = []\n",
    "    resp = es.search(\n",
    "        index=\"documents\",\n",
    "        body={\n",
    "            \"query\": {\n",
    "                \"bool\": {\n",
    "                    \"should\": {\n",
    "                        \"match\": {\n",
    "                            \"text_right\": row[\"text_left\"],\n",
    "                        }\n",
    "                    }\n",
    "                }\n",
    "            }\n",
    "        },\n",
    "        size=20\n",
    "    )\n",
    "    \n",
    "    for hit in resp['hits']['hits']:\n",
    "        quintuple.append([row[\"id_left\"], row[\"text_left\"], hit['_id'], \n",
    "                          hit['_score'], hit['_source']['text_right']])\n",
    "        \n",
    "    quintuples.append(quintuple)"
   ]
  },
  {
   "cell_type": "markdown",
   "id": "4818d3f0",
   "metadata": {},
   "source": [
    "# Replacing es score by dot product"
   ]
  },
  {
   "cell_type": "code",
   "execution_count": 11,
   "id": "1d640190",
   "metadata": {},
   "outputs": [],
   "source": [
    "model = SentenceTransformer('msmarco-distilbert-dot-v5')"
   ]
  },
  {
   "cell_type": "code",
   "execution_count": 12,
   "id": "f3964dcc",
   "metadata": {},
   "outputs": [],
   "source": [
    "for query in quintuples:\n",
    "    for quintuple in query:\n",
    "        query_embedding = model.encode(quintuple[1])\n",
    "        passage_embedding = model.encode(quintuple[4])\n",
    "        quintuple[3] = float(util.dot_score(query_embedding, passage_embedding)[0][0])"
   ]
  },
  {
   "cell_type": "markdown",
   "id": "0be1e50f",
   "metadata": {},
   "source": [
    "# Sorting by the new score"
   ]
  },
  {
   "cell_type": "code",
   "execution_count": 13,
   "id": "1b6629d0",
   "metadata": {},
   "outputs": [],
   "source": [
    "def score(elem):\n",
    "    return elem[3]\n",
    "\n",
    "for query in quintuples:\n",
    "    query.sort(key=score, reverse=True)"
   ]
  },
  {
   "cell_type": "markdown",
   "id": "a1556044",
   "metadata": {},
   "source": [
    "# Format in TREC format"
   ]
  },
  {
   "cell_type": "code",
   "execution_count": 14,
   "id": "56ce8ae8",
   "metadata": {},
   "outputs": [],
   "source": [
    "with open(\"qrels\", \"w\") as qf:\n",
    "    for query in quintuples:\n",
    "        for quintuple in query:\n",
    "            if quintuple[0] == int(quintuple[2]):\n",
    "                rel = \"2\"\n",
    "            else:\n",
    "                rel = \"1\"\n",
    "            qf.write(str(quintuple[0]) + \"\\t0\\t\" + str(quintuple[2]) + \"\\t\" + rel + \"\\n\")"
   ]
  },
  {
   "cell_type": "code",
   "execution_count": 15,
   "id": "38b6acf7",
   "metadata": {},
   "outputs": [],
   "source": [
    "with open(\"cos.res\", \"w\") as cf:\n",
    "    for query in quintuples:\n",
    "        rank = 0\n",
    "        for quintuple in query:\n",
    "            cf.write(str(quintuple[0]) + \" Q0 \" + str(quintuple[2]) + \" \" + str(rank) + \n",
    "                     \" \" + str(quintuple[3]) + \" ES\\n\")\n",
    "            rank += 1"
   ]
  },
  {
   "cell_type": "markdown",
   "id": "3120c9c9",
   "metadata": {},
   "source": [
    "# Evaluation"
   ]
  },
  {
   "cell_type": "code",
   "execution_count": 16,
   "id": "6ae10be6",
   "metadata": {},
   "outputs": [],
   "source": [
    "import ir_measures\n",
    "from ir_measures import *"
   ]
  },
  {
   "cell_type": "code",
   "execution_count": 18,
   "id": "27d66631",
   "metadata": {},
   "outputs": [
    {
     "data": {
      "text/plain": [
       "{P@10: 0.22899999999999995,\n",
       " P@20: 0.1480000000000001,\n",
       " AP@20: 0.17797525806652736}"
      ]
     },
     "execution_count": 18,
     "metadata": {},
     "output_type": "execute_result"
    }
   ],
   "source": [
    "qrels = ir_measures.read_trec_qrels('wikIR1k/test/qrels')\n",
    "run = ir_measures.read_trec_run('cos.res')\n",
    "ir_measures.calc_aggregate([P@10, P@20, MAP@20], qrels, run)"
   ]
  },
  {
   "cell_type": "code",
   "execution_count": 19,
   "id": "1e3bddaa",
   "metadata": {},
   "outputs": [
    {
     "data": {
      "text/plain": [
       "{P@10: 0.1319999999999999,\n",
       " P@20: 0.09499999999999999,\n",
       " AP@20: 0.0974761709661997}"
      ]
     },
     "execution_count": 19,
     "metadata": {},
     "output_type": "execute_result"
    }
   ],
   "source": [
    "qrels = ir_measures.read_trec_qrels('wikIR1k/test/qrels')\n",
    "run = ir_measures.read_trec_run('wikIR1k/test/BM25.res')\n",
    "ir_measures.calc_aggregate([P@10, P@20, MAP@20], qrels, run)"
   ]
  },
  {
   "cell_type": "code",
   "execution_count": 20,
   "id": "9e5c3cae",
   "metadata": {},
   "outputs": [
    {
     "data": {
      "text/plain": [
       "{P@10: 0.5545454545454546,\n",
       " P@20: 0.48232323232323215,\n",
       " AP@20: 0.46159871962333476}"
      ]
     },
     "execution_count": 20,
     "metadata": {},
     "output_type": "execute_result"
    }
   ],
   "source": [
    "qrels = ir_measures.read_trec_qrels('qrels')\n",
    "run = ir_measures.read_trec_run('wikIR1k/test/BM25.res')\n",
    "ir_measures.calc_aggregate([P@10, P@20, MAP@20], qrels, run)"
   ]
  }
 ],
 "metadata": {
  "kernelspec": {
   "display_name": "Python 3 (ipykernel)",
   "language": "python",
   "name": "python3"
  },
  "language_info": {
   "codemirror_mode": {
    "name": "ipython",
    "version": 3
   },
   "file_extension": ".py",
   "mimetype": "text/x-python",
   "name": "python",
   "nbconvert_exporter": "python",
   "pygments_lexer": "ipython3",
   "version": "3.9.13"
  }
 },
 "nbformat": 4,
 "nbformat_minor": 5
}
